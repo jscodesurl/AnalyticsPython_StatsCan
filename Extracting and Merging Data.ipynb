{
 "cells": [
  {
   "cell_type": "code",
   "execution_count": 1,
   "id": "9d91d7f2",
   "metadata": {},
   "outputs": [],
   "source": [
    "import numpy as np\n",
    "import pandas as pd"
   ]
  },
  {
   "cell_type": "markdown",
   "id": "f498640d",
   "metadata": {},
   "source": [
    "# Loading the first dataframe for analysis"
   ]
  },
  {
   "cell_type": "code",
   "execution_count": 2,
   "id": "82b00b5c",
   "metadata": {},
   "outputs": [],
   "source": [
    "#loading the first dataframe\n",
    "Jan22=pd.read_csv('Datasets/pub0122.csv')"
   ]
  },
  {
   "cell_type": "code",
   "execution_count": 3,
   "id": "a8bc3a32",
   "metadata": {},
   "outputs": [
    {
     "data": {
      "text/html": [
       "<div>\n",
       "<style scoped>\n",
       "    .dataframe tbody tr th:only-of-type {\n",
       "        vertical-align: middle;\n",
       "    }\n",
       "\n",
       "    .dataframe tbody tr th {\n",
       "        vertical-align: top;\n",
       "    }\n",
       "\n",
       "    .dataframe thead th {\n",
       "        text-align: right;\n",
       "    }\n",
       "</style>\n",
       "<table border=\"1\" class=\"dataframe\">\n",
       "  <thead>\n",
       "    <tr style=\"text-align: right;\">\n",
       "      <th></th>\n",
       "      <th>REC_NUM</th>\n",
       "      <th>SURVYEAR</th>\n",
       "      <th>SURVMNTH</th>\n",
       "      <th>LFSSTAT</th>\n",
       "      <th>PROV</th>\n",
       "      <th>CMA</th>\n",
       "      <th>AGE_12</th>\n",
       "      <th>AGE_6</th>\n",
       "      <th>SEX</th>\n",
       "      <th>MARSTAT</th>\n",
       "      <th>...</th>\n",
       "      <th>LKATADS</th>\n",
       "      <th>LKANSADS</th>\n",
       "      <th>LKOTHERN</th>\n",
       "      <th>PRIORACT</th>\n",
       "      <th>YNOLOOK</th>\n",
       "      <th>TLOLOOK</th>\n",
       "      <th>SCHOOLN</th>\n",
       "      <th>EFAMTYPE</th>\n",
       "      <th>AGYOWNK</th>\n",
       "      <th>FINALWT</th>\n",
       "    </tr>\n",
       "  </thead>\n",
       "  <tbody>\n",
       "    <tr>\n",
       "      <th>0</th>\n",
       "      <td>1</td>\n",
       "      <td>2022</td>\n",
       "      <td>1</td>\n",
       "      <td>1</td>\n",
       "      <td>59</td>\n",
       "      <td>0</td>\n",
       "      <td>8</td>\n",
       "      <td>NaN</td>\n",
       "      <td>1</td>\n",
       "      <td>1</td>\n",
       "      <td>...</td>\n",
       "      <td>NaN</td>\n",
       "      <td>NaN</td>\n",
       "      <td>NaN</td>\n",
       "      <td>NaN</td>\n",
       "      <td>NaN</td>\n",
       "      <td>NaN</td>\n",
       "      <td>1.0</td>\n",
       "      <td>6</td>\n",
       "      <td>3.0</td>\n",
       "      <td>133</td>\n",
       "    </tr>\n",
       "    <tr>\n",
       "      <th>1</th>\n",
       "      <td>2</td>\n",
       "      <td>2022</td>\n",
       "      <td>1</td>\n",
       "      <td>1</td>\n",
       "      <td>12</td>\n",
       "      <td>0</td>\n",
       "      <td>6</td>\n",
       "      <td>NaN</td>\n",
       "      <td>2</td>\n",
       "      <td>6</td>\n",
       "      <td>...</td>\n",
       "      <td>NaN</td>\n",
       "      <td>NaN</td>\n",
       "      <td>NaN</td>\n",
       "      <td>NaN</td>\n",
       "      <td>NaN</td>\n",
       "      <td>NaN</td>\n",
       "      <td>1.0</td>\n",
       "      <td>18</td>\n",
       "      <td>NaN</td>\n",
       "      <td>135</td>\n",
       "    </tr>\n",
       "    <tr>\n",
       "      <th>2</th>\n",
       "      <td>3</td>\n",
       "      <td>2022</td>\n",
       "      <td>1</td>\n",
       "      <td>4</td>\n",
       "      <td>46</td>\n",
       "      <td>6</td>\n",
       "      <td>11</td>\n",
       "      <td>NaN</td>\n",
       "      <td>1</td>\n",
       "      <td>1</td>\n",
       "      <td>...</td>\n",
       "      <td>NaN</td>\n",
       "      <td>NaN</td>\n",
       "      <td>NaN</td>\n",
       "      <td>NaN</td>\n",
       "      <td>NaN</td>\n",
       "      <td>NaN</td>\n",
       "      <td>NaN</td>\n",
       "      <td>11</td>\n",
       "      <td>NaN</td>\n",
       "      <td>95</td>\n",
       "    </tr>\n",
       "    <tr>\n",
       "      <th>3</th>\n",
       "      <td>4</td>\n",
       "      <td>2022</td>\n",
       "      <td>1</td>\n",
       "      <td>2</td>\n",
       "      <td>35</td>\n",
       "      <td>4</td>\n",
       "      <td>5</td>\n",
       "      <td>NaN</td>\n",
       "      <td>2</td>\n",
       "      <td>6</td>\n",
       "      <td>...</td>\n",
       "      <td>NaN</td>\n",
       "      <td>NaN</td>\n",
       "      <td>NaN</td>\n",
       "      <td>NaN</td>\n",
       "      <td>NaN</td>\n",
       "      <td>NaN</td>\n",
       "      <td>1.0</td>\n",
       "      <td>1</td>\n",
       "      <td>NaN</td>\n",
       "      <td>1118</td>\n",
       "    </tr>\n",
       "    <tr>\n",
       "      <th>4</th>\n",
       "      <td>5</td>\n",
       "      <td>2022</td>\n",
       "      <td>1</td>\n",
       "      <td>1</td>\n",
       "      <td>24</td>\n",
       "      <td>0</td>\n",
       "      <td>7</td>\n",
       "      <td>NaN</td>\n",
       "      <td>2</td>\n",
       "      <td>1</td>\n",
       "      <td>...</td>\n",
       "      <td>NaN</td>\n",
       "      <td>NaN</td>\n",
       "      <td>NaN</td>\n",
       "      <td>NaN</td>\n",
       "      <td>NaN</td>\n",
       "      <td>NaN</td>\n",
       "      <td>1.0</td>\n",
       "      <td>3</td>\n",
       "      <td>3.0</td>\n",
       "      <td>115</td>\n",
       "    </tr>\n",
       "  </tbody>\n",
       "</table>\n",
       "<p>5 rows × 60 columns</p>\n",
       "</div>"
      ],
      "text/plain": [
       "   REC_NUM  SURVYEAR  SURVMNTH  LFSSTAT  PROV  CMA  AGE_12  AGE_6  SEX  \\\n",
       "0        1      2022         1        1    59    0       8    NaN    1   \n",
       "1        2      2022         1        1    12    0       6    NaN    2   \n",
       "2        3      2022         1        4    46    6      11    NaN    1   \n",
       "3        4      2022         1        2    35    4       5    NaN    2   \n",
       "4        5      2022         1        1    24    0       7    NaN    2   \n",
       "\n",
       "   MARSTAT  ...  LKATADS  LKANSADS  LKOTHERN  PRIORACT  YNOLOOK  TLOLOOK  \\\n",
       "0        1  ...      NaN       NaN       NaN       NaN      NaN      NaN   \n",
       "1        6  ...      NaN       NaN       NaN       NaN      NaN      NaN   \n",
       "2        1  ...      NaN       NaN       NaN       NaN      NaN      NaN   \n",
       "3        6  ...      NaN       NaN       NaN       NaN      NaN      NaN   \n",
       "4        1  ...      NaN       NaN       NaN       NaN      NaN      NaN   \n",
       "\n",
       "   SCHOOLN  EFAMTYPE  AGYOWNK  FINALWT  \n",
       "0      1.0         6      3.0      133  \n",
       "1      1.0        18      NaN      135  \n",
       "2      NaN        11      NaN       95  \n",
       "3      1.0         1      NaN     1118  \n",
       "4      1.0         3      3.0      115  \n",
       "\n",
       "[5 rows x 60 columns]"
      ]
     },
     "execution_count": 3,
     "metadata": {},
     "output_type": "execute_result"
    }
   ],
   "source": [
    "#exploring the head of the Jan data\n",
    "Jan22.head()"
   ]
  },
  {
   "cell_type": "code",
   "execution_count": 11,
   "id": "cf673303",
   "metadata": {},
   "outputs": [],
   "source": [
    "#listing required columns based on specification\n",
    "reqcols=['SURVMNTH','LFSSTAT','PROV','AGE_12','SEX','EDUC',\n",
    "         'NAICS_21','NOC_10','NOC_40','COWMAIN','FTPTMAIN']"
   ]
  },
  {
   "cell_type": "code",
   "execution_count": 15,
   "id": "22b1ee5a",
   "metadata": {},
   "outputs": [
    {
     "name": "stdout",
     "output_type": "stream",
     "text": [
      "<class 'pandas.core.frame.DataFrame'>\n",
      "RangeIndex: 97899 entries, 0 to 97898\n",
      "Data columns (total 11 columns):\n",
      " #   Column    Non-Null Count  Dtype  \n",
      "---  ------    --------------  -----  \n",
      " 0   SURVMNTH  97899 non-null  int64  \n",
      " 1   LFSSTAT   97899 non-null  int64  \n",
      " 2   PROV      97899 non-null  int64  \n",
      " 3   AGE_12    97899 non-null  int64  \n",
      " 4   SEX       97899 non-null  int64  \n",
      " 5   EDUC      97899 non-null  int64  \n",
      " 6   NAICS_21  62804 non-null  float64\n",
      " 7   NOC_10    62804 non-null  float64\n",
      " 8   NOC_40    62804 non-null  float64\n",
      " 9   COWMAIN   62804 non-null  float64\n",
      " 10  FTPTMAIN  55216 non-null  float64\n",
      "dtypes: float64(5), int64(6)\n",
      "memory usage: 8.2 MB\n"
     ]
    }
   ],
   "source": [
    "Jan22[reqcols].info()\n",
    "#here we can see some of the required columns' data types does not align with the requirement, will need to perform\n",
    "#data transformation on the types"
   ]
  },
  {
   "cell_type": "markdown",
   "id": "ffc7e05e",
   "metadata": {},
   "source": [
    "# Loading reference files"
   ]
  },
  {
   "cell_type": "code",
   "execution_count": 20,
   "id": "99bfeba1",
   "metadata": {},
   "outputs": [],
   "source": [
    "#loading the required files to derive string values for the specified columns\n",
    "\n",
    "lfsstat=pd.read_csv('Datasets/ref_lfsstat.csv')\n",
    "sex=pd.read_csv('Datasets/ref_sex.csv')\n",
    "ftptmain=pd.read_csv('Datasets/ref_ftptmain.csv')\n",
    "whypt=pd.read_csv('Datasets/ref_whypt.csv')"
   ]
  },
  {
   "cell_type": "markdown",
   "id": "b7b0f2ed",
   "metadata": {},
   "source": [
    "# Unit test - Use Jan file to conduct all transformations before writting the function to convert all other months"
   ]
  },
  {
   "cell_type": "markdown",
   "id": "96c7b217",
   "metadata": {},
   "source": [
    "Note: I am going to be using English labels for merging to enhance readability of the data.\n",
    "\n",
    "To use French labels, subsitute 'en_label' with 'fr_label' in the code."
   ]
  },
  {
   "cell_type": "markdown",
   "id": "ca871671",
   "metadata": {},
   "source": [
    "Converting LFSSTAT"
   ]
  },
  {
   "cell_type": "code",
   "execution_count": 64,
   "id": "4e83209c",
   "metadata": {},
   "outputs": [
    {
     "data": {
      "text/plain": [
       "'1-Employed, at work'"
      ]
     },
     "execution_count": 64,
     "metadata": {},
     "output_type": "execute_result"
    }
   ],
   "source": [
    "#merging one row of this column as specified\n",
    "Jan22['LFSSTAT'].values[1].astype(str)+'-'+lfsstat[lfsstat['code']==Jan22['LFSSTAT'].values[1]]['en_label'][0]"
   ]
  },
  {
   "cell_type": "code",
   "execution_count": 31,
   "id": "0ed73e6b",
   "metadata": {},
   "outputs": [
    {
     "data": {
      "text/plain": [
       "array([1, 4, 2, 3], dtype=int64)"
      ]
     },
     "execution_count": 31,
     "metadata": {},
     "output_type": "execute_result"
    }
   ],
   "source": [
    "#checking the unique values of specified column\n",
    "Jan22['LFSSTAT'].unique()"
   ]
  },
  {
   "cell_type": "code",
   "execution_count": 32,
   "id": "750ad7a2",
   "metadata": {},
   "outputs": [
    {
     "data": {
      "text/html": [
       "<div>\n",
       "<style scoped>\n",
       "    .dataframe tbody tr th:only-of-type {\n",
       "        vertical-align: middle;\n",
       "    }\n",
       "\n",
       "    .dataframe tbody tr th {\n",
       "        vertical-align: top;\n",
       "    }\n",
       "\n",
       "    .dataframe thead th {\n",
       "        text-align: right;\n",
       "    }\n",
       "</style>\n",
       "<table border=\"1\" class=\"dataframe\">\n",
       "  <thead>\n",
       "    <tr style=\"text-align: right;\">\n",
       "      <th></th>\n",
       "      <th>code</th>\n",
       "      <th>en_label</th>\n",
       "      <th>fr_label</th>\n",
       "    </tr>\n",
       "  </thead>\n",
       "  <tbody>\n",
       "    <tr>\n",
       "      <th>0</th>\n",
       "      <td>1</td>\n",
       "      <td>Employed, at work</td>\n",
       "      <td>Personnes occupées, au travail</td>\n",
       "    </tr>\n",
       "    <tr>\n",
       "      <th>1</th>\n",
       "      <td>2</td>\n",
       "      <td>Employed, absent from work</td>\n",
       "      <td>Personnes occupées, absentes du travail</td>\n",
       "    </tr>\n",
       "    <tr>\n",
       "      <th>2</th>\n",
       "      <td>3</td>\n",
       "      <td>Unemployed</td>\n",
       "      <td>Chômeurs</td>\n",
       "    </tr>\n",
       "    <tr>\n",
       "      <th>3</th>\n",
       "      <td>4</td>\n",
       "      <td>Not in labour force</td>\n",
       "      <td>Inactifs</td>\n",
       "    </tr>\n",
       "  </tbody>\n",
       "</table>\n",
       "</div>"
      ],
      "text/plain": [
       "   code                    en_label                                 fr_label\n",
       "0     1           Employed, at work           Personnes occupées, au travail\n",
       "1     2  Employed, absent from work  Personnes occupées, absentes du travail\n",
       "2     3                  Unemployed                                 Chômeurs\n",
       "3     4         Not in labour force                                 Inactifs"
      ]
     },
     "execution_count": 32,
     "metadata": {},
     "output_type": "execute_result"
    }
   ],
   "source": [
    "#checking conversion reference file\n",
    "lfsstat"
   ]
  },
  {
   "cell_type": "code",
   "execution_count": 71,
   "id": "d5545984",
   "metadata": {},
   "outputs": [
    {
     "data": {
      "text/html": [
       "<div>\n",
       "<style scoped>\n",
       "    .dataframe tbody tr th:only-of-type {\n",
       "        vertical-align: middle;\n",
       "    }\n",
       "\n",
       "    .dataframe tbody tr th {\n",
       "        vertical-align: top;\n",
       "    }\n",
       "\n",
       "    .dataframe thead th {\n",
       "        text-align: right;\n",
       "    }\n",
       "</style>\n",
       "<table border=\"1\" class=\"dataframe\">\n",
       "  <thead>\n",
       "    <tr style=\"text-align: right;\">\n",
       "      <th></th>\n",
       "      <th>SURVMNTH</th>\n",
       "      <th>LFSSTAT</th>\n",
       "      <th>PROV</th>\n",
       "      <th>AGE_12</th>\n",
       "      <th>SEX</th>\n",
       "      <th>EDUC</th>\n",
       "      <th>NAICS_21</th>\n",
       "      <th>NOC_10</th>\n",
       "      <th>NOC_40</th>\n",
       "      <th>COWMAIN</th>\n",
       "      <th>FTPTMAIN</th>\n",
       "    </tr>\n",
       "  </thead>\n",
       "  <tbody>\n",
       "    <tr>\n",
       "      <th>0</th>\n",
       "      <td>1</td>\n",
       "      <td>1-Employed, at work</td>\n",
       "      <td>59</td>\n",
       "      <td>8</td>\n",
       "      <td>1</td>\n",
       "      <td>5</td>\n",
       "      <td>14.0</td>\n",
       "      <td>3.0</td>\n",
       "      <td>10.0</td>\n",
       "      <td>6.0</td>\n",
       "      <td>2.0</td>\n",
       "    </tr>\n",
       "    <tr>\n",
       "      <th>1</th>\n",
       "      <td>1</td>\n",
       "      <td>1-Employed, at work</td>\n",
       "      <td>12</td>\n",
       "      <td>6</td>\n",
       "      <td>2</td>\n",
       "      <td>6</td>\n",
       "      <td>16.0</td>\n",
       "      <td>5.0</td>\n",
       "      <td>16.0</td>\n",
       "      <td>1.0</td>\n",
       "      <td>1.0</td>\n",
       "    </tr>\n",
       "    <tr>\n",
       "      <th>2</th>\n",
       "      <td>1</td>\n",
       "      <td>4-Not in labour force</td>\n",
       "      <td>46</td>\n",
       "      <td>11</td>\n",
       "      <td>1</td>\n",
       "      <td>2</td>\n",
       "      <td>6.0</td>\n",
       "      <td>8.0</td>\n",
       "      <td>29.0</td>\n",
       "      <td>6.0</td>\n",
       "      <td>NaN</td>\n",
       "    </tr>\n",
       "    <tr>\n",
       "      <th>3</th>\n",
       "      <td>1</td>\n",
       "      <td>2-Employed, absent from work</td>\n",
       "      <td>35</td>\n",
       "      <td>5</td>\n",
       "      <td>2</td>\n",
       "      <td>6</td>\n",
       "      <td>14.0</td>\n",
       "      <td>2.0</td>\n",
       "      <td>5.0</td>\n",
       "      <td>2.0</td>\n",
       "      <td>1.0</td>\n",
       "    </tr>\n",
       "    <tr>\n",
       "      <th>4</th>\n",
       "      <td>1</td>\n",
       "      <td>1-Employed, at work</td>\n",
       "      <td>24</td>\n",
       "      <td>7</td>\n",
       "      <td>2</td>\n",
       "      <td>4</td>\n",
       "      <td>17.0</td>\n",
       "      <td>5.0</td>\n",
       "      <td>18.0</td>\n",
       "      <td>1.0</td>\n",
       "      <td>1.0</td>\n",
       "    </tr>\n",
       "  </tbody>\n",
       "</table>\n",
       "</div>"
      ],
      "text/plain": [
       "   SURVMNTH                       LFSSTAT  PROV  AGE_12  SEX  EDUC  NAICS_21  \\\n",
       "0         1           1-Employed, at work    59       8    1     5      14.0   \n",
       "1         1           1-Employed, at work    12       6    2     6      16.0   \n",
       "2         1         4-Not in labour force    46      11    1     2       6.0   \n",
       "3         1  2-Employed, absent from work    35       5    2     6      14.0   \n",
       "4         1           1-Employed, at work    24       7    2     4      17.0   \n",
       "\n",
       "   NOC_10  NOC_40  COWMAIN  FTPTMAIN  \n",
       "0     3.0    10.0      6.0       2.0  \n",
       "1     5.0    16.0      1.0       1.0  \n",
       "2     8.0    29.0      6.0       NaN  \n",
       "3     2.0     5.0      2.0       1.0  \n",
       "4     5.0    18.0      1.0       1.0  "
      ]
     },
     "execution_count": 71,
     "metadata": {},
     "output_type": "execute_result"
    }
   ],
   "source": [
    "#mapping and merging entire column for January file with the reference file \n",
    "Jan22['LFSSTAT']=Jan22['LFSSTAT'].map(lambda x: str(x)+'-'+(lfsstat['en_label'][lfsstat['code']==x].values[0]))\n",
    "\n",
    "#checking head of the newly merged dataframe\n",
    "Jan22[reqcols].head()"
   ]
  },
  {
   "cell_type": "markdown",
   "id": "1f0511bd",
   "metadata": {},
   "source": [
    "Converting SEX\n"
   ]
  },
  {
   "cell_type": "code",
   "execution_count": 72,
   "id": "eaf6df49",
   "metadata": {},
   "outputs": [
    {
     "data": {
      "text/plain": [
       "array([1, 2], dtype=int64)"
      ]
     },
     "execution_count": 72,
     "metadata": {},
     "output_type": "execute_result"
    }
   ],
   "source": [
    "#checking unique values for SEX column\n",
    "Jan22['SEX'].unique()"
   ]
  },
  {
   "cell_type": "code",
   "execution_count": 74,
   "id": "27ba3b99",
   "metadata": {},
   "outputs": [
    {
     "data": {
      "text/html": [
       "<div>\n",
       "<style scoped>\n",
       "    .dataframe tbody tr th:only-of-type {\n",
       "        vertical-align: middle;\n",
       "    }\n",
       "\n",
       "    .dataframe tbody tr th {\n",
       "        vertical-align: top;\n",
       "    }\n",
       "\n",
       "    .dataframe thead th {\n",
       "        text-align: right;\n",
       "    }\n",
       "</style>\n",
       "<table border=\"1\" class=\"dataframe\">\n",
       "  <thead>\n",
       "    <tr style=\"text-align: right;\">\n",
       "      <th></th>\n",
       "      <th>SURVMNTH</th>\n",
       "      <th>LFSSTAT</th>\n",
       "      <th>PROV</th>\n",
       "      <th>AGE_12</th>\n",
       "      <th>SEX</th>\n",
       "      <th>EDUC</th>\n",
       "      <th>NAICS_21</th>\n",
       "      <th>NOC_10</th>\n",
       "      <th>NOC_40</th>\n",
       "      <th>COWMAIN</th>\n",
       "      <th>FTPTMAIN</th>\n",
       "    </tr>\n",
       "  </thead>\n",
       "  <tbody>\n",
       "    <tr>\n",
       "      <th>0</th>\n",
       "      <td>1</td>\n",
       "      <td>1-Employed, at work</td>\n",
       "      <td>59</td>\n",
       "      <td>8</td>\n",
       "      <td>1-Male</td>\n",
       "      <td>5</td>\n",
       "      <td>14.0</td>\n",
       "      <td>3.0</td>\n",
       "      <td>10.0</td>\n",
       "      <td>6.0</td>\n",
       "      <td>2.0</td>\n",
       "    </tr>\n",
       "    <tr>\n",
       "      <th>1</th>\n",
       "      <td>1</td>\n",
       "      <td>1-Employed, at work</td>\n",
       "      <td>12</td>\n",
       "      <td>6</td>\n",
       "      <td>2-Female</td>\n",
       "      <td>6</td>\n",
       "      <td>16.0</td>\n",
       "      <td>5.0</td>\n",
       "      <td>16.0</td>\n",
       "      <td>1.0</td>\n",
       "      <td>1.0</td>\n",
       "    </tr>\n",
       "    <tr>\n",
       "      <th>2</th>\n",
       "      <td>1</td>\n",
       "      <td>4-Not in labour force</td>\n",
       "      <td>46</td>\n",
       "      <td>11</td>\n",
       "      <td>1-Male</td>\n",
       "      <td>2</td>\n",
       "      <td>6.0</td>\n",
       "      <td>8.0</td>\n",
       "      <td>29.0</td>\n",
       "      <td>6.0</td>\n",
       "      <td>NaN</td>\n",
       "    </tr>\n",
       "    <tr>\n",
       "      <th>3</th>\n",
       "      <td>1</td>\n",
       "      <td>2-Employed, absent from work</td>\n",
       "      <td>35</td>\n",
       "      <td>5</td>\n",
       "      <td>2-Female</td>\n",
       "      <td>6</td>\n",
       "      <td>14.0</td>\n",
       "      <td>2.0</td>\n",
       "      <td>5.0</td>\n",
       "      <td>2.0</td>\n",
       "      <td>1.0</td>\n",
       "    </tr>\n",
       "    <tr>\n",
       "      <th>4</th>\n",
       "      <td>1</td>\n",
       "      <td>1-Employed, at work</td>\n",
       "      <td>24</td>\n",
       "      <td>7</td>\n",
       "      <td>2-Female</td>\n",
       "      <td>4</td>\n",
       "      <td>17.0</td>\n",
       "      <td>5.0</td>\n",
       "      <td>18.0</td>\n",
       "      <td>1.0</td>\n",
       "      <td>1.0</td>\n",
       "    </tr>\n",
       "  </tbody>\n",
       "</table>\n",
       "</div>"
      ],
      "text/plain": [
       "   SURVMNTH                       LFSSTAT  PROV  AGE_12       SEX  EDUC  \\\n",
       "0         1           1-Employed, at work    59       8    1-Male     5   \n",
       "1         1           1-Employed, at work    12       6  2-Female     6   \n",
       "2         1         4-Not in labour force    46      11    1-Male     2   \n",
       "3         1  2-Employed, absent from work    35       5  2-Female     6   \n",
       "4         1           1-Employed, at work    24       7  2-Female     4   \n",
       "\n",
       "   NAICS_21  NOC_10  NOC_40  COWMAIN  FTPTMAIN  \n",
       "0      14.0     3.0    10.0      6.0       2.0  \n",
       "1      16.0     5.0    16.0      1.0       1.0  \n",
       "2       6.0     8.0    29.0      6.0       NaN  \n",
       "3      14.0     2.0     5.0      2.0       1.0  \n",
       "4      17.0     5.0    18.0      1.0       1.0  "
      ]
     },
     "execution_count": 74,
     "metadata": {},
     "output_type": "execute_result"
    }
   ],
   "source": [
    "#mapping and merging entire column for January file with the reference file \n",
    "Jan22['SEX']=Jan22['SEX'].map(lambda x: str(x)+'-'+(sex['en_label'][sex['code']==x].values[0]))\n",
    "\n",
    "#checking head of the newly merged dataframe\n",
    "Jan22[reqcols].head()"
   ]
  },
  {
   "cell_type": "markdown",
   "id": "35f917ea",
   "metadata": {},
   "source": [
    "Converting FTPTMAIN"
   ]
  },
  {
   "cell_type": "code",
   "execution_count": 78,
   "id": "183371ea",
   "metadata": {},
   "outputs": [
    {
     "data": {
      "text/plain": [
       "array([ 2.,  1., nan])"
      ]
     },
     "execution_count": 78,
     "metadata": {},
     "output_type": "execute_result"
    }
   ],
   "source": [
    "#checking unique values for FTPTMAIN column\n",
    "Jan22['FTPTMAIN'].unique()"
   ]
  },
  {
   "cell_type": "code",
   "execution_count": 83,
   "id": "eec81afd",
   "metadata": {},
   "outputs": [
    {
     "data": {
      "text/plain": [
       "42683"
      ]
     },
     "execution_count": 83,
     "metadata": {},
     "output_type": "execute_result"
    }
   ],
   "source": [
    "#count the number of NAs\n",
    "Jan22['FTPTMAIN'].isna().sum()"
   ]
  },
  {
   "cell_type": "code",
   "execution_count": 85,
   "id": "7de1ba6b",
   "metadata": {},
   "outputs": [],
   "source": [
    "#since there are NA values, we will map these to 0\n",
    "#this is consistent with how NAs are treated in the previous excercies when compiling the reference files\n",
    "\n",
    "Jan22['FTPTMAIN']=Jan22['FTPTMAIN'].fillna(0)"
   ]
  },
  {
   "cell_type": "code",
   "execution_count": 87,
   "id": "084d7e1a",
   "metadata": {},
   "outputs": [
    {
     "data": {
      "text/plain": [
       "42683"
      ]
     },
     "execution_count": 87,
     "metadata": {},
     "output_type": "execute_result"
    }
   ],
   "source": [
    "#confirming all the NAs have been replaced\n",
    "Jan22[Jan22['FTPTMAIN']==0]['FTPTMAIN'].count()"
   ]
  },
  {
   "cell_type": "code",
   "execution_count": 89,
   "id": "6af5c2b0",
   "metadata": {},
   "outputs": [
    {
     "data": {
      "text/plain": [
       "0    2\n",
       "1    1\n",
       "2    0\n",
       "3    1\n",
       "4    1\n",
       "Name: FTPTMAIN, dtype: int64"
      ]
     },
     "execution_count": 89,
     "metadata": {},
     "output_type": "execute_result"
    }
   ],
   "source": [
    "#converting to integer to ensure consistentcy in format\n",
    "Jan22['FTPTMAIN']=Jan22['FTPTMAIN'].astype('int64')\n",
    "Jan22['FTPTMAIN'].head()"
   ]
  },
  {
   "cell_type": "code",
   "execution_count": 90,
   "id": "7b40ca95",
   "metadata": {},
   "outputs": [
    {
     "data": {
      "text/html": [
       "<div>\n",
       "<style scoped>\n",
       "    .dataframe tbody tr th:only-of-type {\n",
       "        vertical-align: middle;\n",
       "    }\n",
       "\n",
       "    .dataframe tbody tr th {\n",
       "        vertical-align: top;\n",
       "    }\n",
       "\n",
       "    .dataframe thead th {\n",
       "        text-align: right;\n",
       "    }\n",
       "</style>\n",
       "<table border=\"1\" class=\"dataframe\">\n",
       "  <thead>\n",
       "    <tr style=\"text-align: right;\">\n",
       "      <th></th>\n",
       "      <th>SURVMNTH</th>\n",
       "      <th>LFSSTAT</th>\n",
       "      <th>PROV</th>\n",
       "      <th>AGE_12</th>\n",
       "      <th>SEX</th>\n",
       "      <th>EDUC</th>\n",
       "      <th>NAICS_21</th>\n",
       "      <th>NOC_10</th>\n",
       "      <th>NOC_40</th>\n",
       "      <th>COWMAIN</th>\n",
       "      <th>FTPTMAIN</th>\n",
       "    </tr>\n",
       "  </thead>\n",
       "  <tbody>\n",
       "    <tr>\n",
       "      <th>0</th>\n",
       "      <td>1</td>\n",
       "      <td>1-Employed, at work</td>\n",
       "      <td>59</td>\n",
       "      <td>8</td>\n",
       "      <td>1-Male</td>\n",
       "      <td>5</td>\n",
       "      <td>14.0</td>\n",
       "      <td>3.0</td>\n",
       "      <td>10.0</td>\n",
       "      <td>6.0</td>\n",
       "      <td>2-Part-time</td>\n",
       "    </tr>\n",
       "    <tr>\n",
       "      <th>1</th>\n",
       "      <td>1</td>\n",
       "      <td>1-Employed, at work</td>\n",
       "      <td>12</td>\n",
       "      <td>6</td>\n",
       "      <td>2-Female</td>\n",
       "      <td>6</td>\n",
       "      <td>16.0</td>\n",
       "      <td>5.0</td>\n",
       "      <td>16.0</td>\n",
       "      <td>1.0</td>\n",
       "      <td>1-Full-time</td>\n",
       "    </tr>\n",
       "    <tr>\n",
       "      <th>2</th>\n",
       "      <td>1</td>\n",
       "      <td>4-Not in labour force</td>\n",
       "      <td>46</td>\n",
       "      <td>11</td>\n",
       "      <td>1-Male</td>\n",
       "      <td>2</td>\n",
       "      <td>6.0</td>\n",
       "      <td>8.0</td>\n",
       "      <td>29.0</td>\n",
       "      <td>6.0</td>\n",
       "      <td>0-Not applicable</td>\n",
       "    </tr>\n",
       "    <tr>\n",
       "      <th>3</th>\n",
       "      <td>1</td>\n",
       "      <td>2-Employed, absent from work</td>\n",
       "      <td>35</td>\n",
       "      <td>5</td>\n",
       "      <td>2-Female</td>\n",
       "      <td>6</td>\n",
       "      <td>14.0</td>\n",
       "      <td>2.0</td>\n",
       "      <td>5.0</td>\n",
       "      <td>2.0</td>\n",
       "      <td>1-Full-time</td>\n",
       "    </tr>\n",
       "    <tr>\n",
       "      <th>4</th>\n",
       "      <td>1</td>\n",
       "      <td>1-Employed, at work</td>\n",
       "      <td>24</td>\n",
       "      <td>7</td>\n",
       "      <td>2-Female</td>\n",
       "      <td>4</td>\n",
       "      <td>17.0</td>\n",
       "      <td>5.0</td>\n",
       "      <td>18.0</td>\n",
       "      <td>1.0</td>\n",
       "      <td>1-Full-time</td>\n",
       "    </tr>\n",
       "  </tbody>\n",
       "</table>\n",
       "</div>"
      ],
      "text/plain": [
       "   SURVMNTH                       LFSSTAT  PROV  AGE_12       SEX  EDUC  \\\n",
       "0         1           1-Employed, at work    59       8    1-Male     5   \n",
       "1         1           1-Employed, at work    12       6  2-Female     6   \n",
       "2         1         4-Not in labour force    46      11    1-Male     2   \n",
       "3         1  2-Employed, absent from work    35       5  2-Female     6   \n",
       "4         1           1-Employed, at work    24       7  2-Female     4   \n",
       "\n",
       "   NAICS_21  NOC_10  NOC_40  COWMAIN          FTPTMAIN  \n",
       "0      14.0     3.0    10.0      6.0       2-Part-time  \n",
       "1      16.0     5.0    16.0      1.0       1-Full-time  \n",
       "2       6.0     8.0    29.0      6.0  0-Not applicable  \n",
       "3      14.0     2.0     5.0      2.0       1-Full-time  \n",
       "4      17.0     5.0    18.0      1.0       1-Full-time  "
      ]
     },
     "execution_count": 90,
     "metadata": {},
     "output_type": "execute_result"
    }
   ],
   "source": [
    "#mapping and merging entire column for January file with the reference file \n",
    "Jan22['FTPTMAIN']=Jan22['FTPTMAIN'].map(lambda x: str(x)+'-'+(ftptmain['en_label'][ftptmain['code']==x].values[0]))\n",
    "\n",
    "#checking head of the newly merged dataframe\n",
    "Jan22[reqcols].head()"
   ]
  },
  {
   "cell_type": "markdown",
   "id": "57ba3491",
   "metadata": {},
   "source": [
    "Converting voluntary_pt"
   ]
  },
  {
   "cell_type": "code",
   "execution_count": 91,
   "id": "95db7eac",
   "metadata": {},
   "outputs": [],
   "source": [
    "#the description for this ask is: Derived Column – TRUE if Part-time is voluntary else FALSE\n",
    "\n",
    "#Here are the values for whypt:"
   ]
  },
  {
   "cell_type": "code",
   "execution_count": 92,
   "id": "d528f652",
   "metadata": {},
   "outputs": [
    {
     "data": {
      "text/html": [
       "<div>\n",
       "<style scoped>\n",
       "    .dataframe tbody tr th:only-of-type {\n",
       "        vertical-align: middle;\n",
       "    }\n",
       "\n",
       "    .dataframe tbody tr th {\n",
       "        vertical-align: top;\n",
       "    }\n",
       "\n",
       "    .dataframe thead th {\n",
       "        text-align: right;\n",
       "    }\n",
       "</style>\n",
       "<table border=\"1\" class=\"dataframe\">\n",
       "  <thead>\n",
       "    <tr style=\"text-align: right;\">\n",
       "      <th></th>\n",
       "      <th>code</th>\n",
       "      <th>en_label</th>\n",
       "      <th>fr_label</th>\n",
       "    </tr>\n",
       "  </thead>\n",
       "  <tbody>\n",
       "    <tr>\n",
       "      <th>0</th>\n",
       "      <td>0</td>\n",
       "      <td>Other reasons</td>\n",
       "      <td>Autre raisons</td>\n",
       "    </tr>\n",
       "    <tr>\n",
       "      <th>1</th>\n",
       "      <td>1</td>\n",
       "      <td>Own illness or disability</td>\n",
       "      <td>Maladie ou incapacité</td>\n",
       "    </tr>\n",
       "    <tr>\n",
       "      <th>2</th>\n",
       "      <td>2</td>\n",
       "      <td>Caring for children</td>\n",
       "      <td>Soins des enfants</td>\n",
       "    </tr>\n",
       "    <tr>\n",
       "      <th>3</th>\n",
       "      <td>3</td>\n",
       "      <td>Other personal or family responsibilities</td>\n",
       "      <td>Autres obligations personnelles ou familiales</td>\n",
       "    </tr>\n",
       "    <tr>\n",
       "      <th>4</th>\n",
       "      <td>4</td>\n",
       "      <td>Going to school</td>\n",
       "      <td>École</td>\n",
       "    </tr>\n",
       "    <tr>\n",
       "      <th>5</th>\n",
       "      <td>5</td>\n",
       "      <td>Personal preference</td>\n",
       "      <td>Choix personnel</td>\n",
       "    </tr>\n",
       "    <tr>\n",
       "      <th>6</th>\n",
       "      <td>6</td>\n",
       "      <td>Business conditions or could not find full-tim...</td>\n",
       "      <td>Conjoncture économique ou n'a pu trouver du tr...</td>\n",
       "    </tr>\n",
       "    <tr>\n",
       "      <th>7</th>\n",
       "      <td>7</td>\n",
       "      <td>Business conditions or could not find full-tim...</td>\n",
       "      <td>Conjoncture économique ou n'a pu trouver du tr...</td>\n",
       "    </tr>\n",
       "    <tr>\n",
       "      <th>8</th>\n",
       "      <td>0</td>\n",
       "      <td>Not applicable</td>\n",
       "      <td>Indisponible</td>\n",
       "    </tr>\n",
       "  </tbody>\n",
       "</table>\n",
       "</div>"
      ],
      "text/plain": [
       "   code                                           en_label  \\\n",
       "0     0                                      Other reasons   \n",
       "1     1                          Own illness or disability   \n",
       "2     2                                Caring for children   \n",
       "3     3          Other personal or family responsibilities   \n",
       "4     4                                    Going to school   \n",
       "5     5                                Personal preference   \n",
       "6     6  Business conditions or could not find full-tim...   \n",
       "7     7  Business conditions or could not find full-tim...   \n",
       "8     0                                     Not applicable   \n",
       "\n",
       "                                            fr_label  \n",
       "0                                      Autre raisons  \n",
       "1                              Maladie ou incapacité  \n",
       "2                                  Soins des enfants  \n",
       "3      Autres obligations personnelles ou familiales  \n",
       "4                                              École  \n",
       "5                                    Choix personnel  \n",
       "6  Conjoncture économique ou n'a pu trouver du tr...  \n",
       "7  Conjoncture économique ou n'a pu trouver du tr...  \n",
       "8                                       Indisponible  "
      ]
     },
     "execution_count": 92,
     "metadata": {},
     "output_type": "execute_result"
    }
   ],
   "source": [
    "whypt"
   ]
  },
  {
   "cell_type": "code",
   "execution_count": 93,
   "id": "301dc23d",
   "metadata": {},
   "outputs": [],
   "source": [
    "#Given above information, I made the assumption that we are to derive the column as True if reason for\n",
    "#part-time is 5 - Personal preference. For all other values, I will derive the column as false"
   ]
  },
  {
   "cell_type": "code",
   "execution_count": 100,
   "id": "4d54345e",
   "metadata": {},
   "outputs": [],
   "source": [
    "#assigning True to 5, False for over values in WHYPT column\n",
    "Jan22['VOLUNTARY_PT']=np.where(Jan22['WHYPT']==5,\n",
    "                               True,\n",
    "                               False)"
   ]
  },
  {
   "cell_type": "code",
   "execution_count": 103,
   "id": "dcae4959",
   "metadata": {},
   "outputs": [
    {
     "data": {
      "text/plain": [
       "False    94830\n",
       "True      3069\n",
       "Name: VOLUNTARY_PT, dtype: int64"
      ]
     },
     "execution_count": 103,
     "metadata": {},
     "output_type": "execute_result"
    }
   ],
   "source": [
    "#checking how many true and false are there\n",
    "Jan22['VOLUNTARY_PT'].value_counts()"
   ]
  },
  {
   "cell_type": "code",
   "execution_count": 104,
   "id": "2e7ab3fd",
   "metadata": {},
   "outputs": [
    {
     "data": {
      "text/plain": [
       "dtype('bool')"
      ]
     },
     "execution_count": 104,
     "metadata": {},
     "output_type": "execute_result"
    }
   ],
   "source": [
    "#ensuring derived column is boolean\n",
    "Jan22['VOLUNTARY_PT'].dtypes"
   ]
  },
  {
   "cell_type": "markdown",
   "id": "2ecbf8a7",
   "metadata": {},
   "source": [
    "Converting QUATER"
   ]
  },
  {
   "cell_type": "code",
   "execution_count": 110,
   "id": "db1cff39",
   "metadata": {},
   "outputs": [],
   "source": [
    "#creating a dictionary to bucket months into quarters\n",
    "\n",
    "quarters={1:'2022Q1',\n",
    "         2:'2022Q1',\n",
    "         3:'2022Q1',\n",
    "         4:'2022Q2',\n",
    "         5:'2022Q2',\n",
    "         6:'2022Q2',\n",
    "         7:'2022Q3',\n",
    "         8:'2022Q3',\n",
    "         9:'2022Q3'}"
   ]
  },
  {
   "cell_type": "code",
   "execution_count": 112,
   "id": "1f46a351",
   "metadata": {},
   "outputs": [],
   "source": [
    "#mapping QUARTER from the dictionary created\n",
    "\n",
    "Jan22['QUARTER']=Jan22['SURVMNTH'].map(quarters)"
   ]
  },
  {
   "cell_type": "code",
   "execution_count": 113,
   "id": "09ce8864",
   "metadata": {},
   "outputs": [
    {
     "data": {
      "text/plain": [
       "0    2022Q1\n",
       "1    2022Q1\n",
       "2    2022Q1\n",
       "3    2022Q1\n",
       "4    2022Q1\n",
       "Name: QUARTER, dtype: object"
      ]
     },
     "execution_count": 113,
     "metadata": {},
     "output_type": "execute_result"
    }
   ],
   "source": [
    "#looking at head of new column - should all be 2022Q1\n",
    "Jan22['QUARTER'].head()"
   ]
  },
  {
   "cell_type": "code",
   "execution_count": 121,
   "id": "f7644cac",
   "metadata": {},
   "outputs": [
    {
     "data": {
      "text/html": [
       "<div>\n",
       "<style scoped>\n",
       "    .dataframe tbody tr th:only-of-type {\n",
       "        vertical-align: middle;\n",
       "    }\n",
       "\n",
       "    .dataframe tbody tr th {\n",
       "        vertical-align: top;\n",
       "    }\n",
       "\n",
       "    .dataframe thead th {\n",
       "        text-align: right;\n",
       "    }\n",
       "</style>\n",
       "<table border=\"1\" class=\"dataframe\">\n",
       "  <thead>\n",
       "    <tr style=\"text-align: right;\">\n",
       "      <th></th>\n",
       "      <th>SURVMNTH</th>\n",
       "      <th>LFSSTAT</th>\n",
       "      <th>PROV</th>\n",
       "      <th>AGE_12</th>\n",
       "      <th>SEX</th>\n",
       "      <th>EDUC</th>\n",
       "      <th>NAICS_21</th>\n",
       "      <th>NOC_10</th>\n",
       "      <th>NOC_40</th>\n",
       "      <th>COWMAIN</th>\n",
       "      <th>FTPTMAIN</th>\n",
       "      <th>QUARTER</th>\n",
       "      <th>VOLUNTARY_PT</th>\n",
       "    </tr>\n",
       "  </thead>\n",
       "  <tbody>\n",
       "    <tr>\n",
       "      <th>0</th>\n",
       "      <td>1</td>\n",
       "      <td>1-Employed, at work</td>\n",
       "      <td>59</td>\n",
       "      <td>8</td>\n",
       "      <td>1-Male</td>\n",
       "      <td>5</td>\n",
       "      <td>14.0</td>\n",
       "      <td>3.0</td>\n",
       "      <td>10.0</td>\n",
       "      <td>6.0</td>\n",
       "      <td>2-Part-time</td>\n",
       "      <td>2022Q1</td>\n",
       "      <td>False</td>\n",
       "    </tr>\n",
       "    <tr>\n",
       "      <th>1</th>\n",
       "      <td>1</td>\n",
       "      <td>1-Employed, at work</td>\n",
       "      <td>12</td>\n",
       "      <td>6</td>\n",
       "      <td>2-Female</td>\n",
       "      <td>6</td>\n",
       "      <td>16.0</td>\n",
       "      <td>5.0</td>\n",
       "      <td>16.0</td>\n",
       "      <td>1.0</td>\n",
       "      <td>1-Full-time</td>\n",
       "      <td>2022Q1</td>\n",
       "      <td>False</td>\n",
       "    </tr>\n",
       "    <tr>\n",
       "      <th>2</th>\n",
       "      <td>1</td>\n",
       "      <td>4-Not in labour force</td>\n",
       "      <td>46</td>\n",
       "      <td>11</td>\n",
       "      <td>1-Male</td>\n",
       "      <td>2</td>\n",
       "      <td>6.0</td>\n",
       "      <td>8.0</td>\n",
       "      <td>29.0</td>\n",
       "      <td>6.0</td>\n",
       "      <td>0-Not applicable</td>\n",
       "      <td>2022Q1</td>\n",
       "      <td>False</td>\n",
       "    </tr>\n",
       "    <tr>\n",
       "      <th>3</th>\n",
       "      <td>1</td>\n",
       "      <td>2-Employed, absent from work</td>\n",
       "      <td>35</td>\n",
       "      <td>5</td>\n",
       "      <td>2-Female</td>\n",
       "      <td>6</td>\n",
       "      <td>14.0</td>\n",
       "      <td>2.0</td>\n",
       "      <td>5.0</td>\n",
       "      <td>2.0</td>\n",
       "      <td>1-Full-time</td>\n",
       "      <td>2022Q1</td>\n",
       "      <td>False</td>\n",
       "    </tr>\n",
       "    <tr>\n",
       "      <th>4</th>\n",
       "      <td>1</td>\n",
       "      <td>1-Employed, at work</td>\n",
       "      <td>24</td>\n",
       "      <td>7</td>\n",
       "      <td>2-Female</td>\n",
       "      <td>4</td>\n",
       "      <td>17.0</td>\n",
       "      <td>5.0</td>\n",
       "      <td>18.0</td>\n",
       "      <td>1.0</td>\n",
       "      <td>1-Full-time</td>\n",
       "      <td>2022Q1</td>\n",
       "      <td>False</td>\n",
       "    </tr>\n",
       "  </tbody>\n",
       "</table>\n",
       "</div>"
      ],
      "text/plain": [
       "   SURVMNTH                       LFSSTAT  PROV  AGE_12       SEX  EDUC  \\\n",
       "0         1           1-Employed, at work    59       8    1-Male     5   \n",
       "1         1           1-Employed, at work    12       6  2-Female     6   \n",
       "2         1         4-Not in labour force    46      11    1-Male     2   \n",
       "3         1  2-Employed, absent from work    35       5  2-Female     6   \n",
       "4         1           1-Employed, at work    24       7  2-Female     4   \n",
       "\n",
       "   NAICS_21  NOC_10  NOC_40  COWMAIN          FTPTMAIN QUARTER  VOLUNTARY_PT  \n",
       "0      14.0     3.0    10.0      6.0       2-Part-time  2022Q1         False  \n",
       "1      16.0     5.0    16.0      1.0       1-Full-time  2022Q1         False  \n",
       "2       6.0     8.0    29.0      6.0  0-Not applicable  2022Q1         False  \n",
       "3      14.0     2.0     5.0      2.0       1-Full-time  2022Q1         False  \n",
       "4      17.0     5.0    18.0      1.0       1-Full-time  2022Q1         False  "
      ]
     },
     "execution_count": 121,
     "metadata": {},
     "output_type": "execute_result"
    }
   ],
   "source": [
    "#taking a final look on derived columns\n",
    "\n",
    "Jan22[reqcols+['QUARTER','VOLUNTARY_PT']].head()"
   ]
  },
  {
   "cell_type": "code",
   "execution_count": 122,
   "id": "e7e6dfa7",
   "metadata": {},
   "outputs": [
    {
     "data": {
      "text/plain": [
       "SURVMNTH          int64\n",
       "LFSSTAT          object\n",
       "PROV              int64\n",
       "AGE_12            int64\n",
       "SEX              object\n",
       "EDUC              int64\n",
       "NAICS_21        float64\n",
       "NOC_10          float64\n",
       "NOC_40          float64\n",
       "COWMAIN         float64\n",
       "FTPTMAIN         object\n",
       "QUARTER          object\n",
       "VOLUNTARY_PT       bool\n",
       "dtype: object"
      ]
     },
     "execution_count": 122,
     "metadata": {},
     "output_type": "execute_result"
    }
   ],
   "source": [
    "#creating a final dataframe for all transformed data\n",
    "Jan22f=Jan22[reqcols+['QUARTER','VOLUNTARY_PT']]\n",
    "\n",
    "#checking final dataframe's data type complies with requirement\n",
    "Jan22f.dtypes"
   ]
  },
  {
   "cell_type": "markdown",
   "id": "b3d2aefd",
   "metadata": {},
   "source": [
    "# Writing function for data conversion"
   ]
  },
  {
   "cell_type": "code",
   "execution_count": 157,
   "id": "33b2f8a2",
   "metadata": {},
   "outputs": [],
   "source": [
    "# this is the working function that transforms each monthly file\n",
    "\n",
    "def transformations(df):\n",
    "    \"\"\"Input dataframe to apply all required transformations: all monthly files,\n",
    "        Return transformed dataform specified in requirement.\"\"\"\n",
    "    \n",
    "    #creating transformations for LFSSTAT\n",
    "    df['LFSSTAT']=df['LFSSTAT'].map(lambda x: str(x)+'-'+(lfsstat['en_label'][lfsstat['code']==x].values[0]))\n",
    "    \n",
    "    #creating transformations for SEX\n",
    "    df['SEX']=df['SEX'].map(lambda x: str(x)+'-'+(sex['en_label'][sex['code']==x].values[0]))\n",
    "    \n",
    "    #creating transformations for FTPTMAIN\n",
    "    df['FTPTMAIN']=df['FTPTMAIN'].fillna(0)\n",
    "    df['FTPTMAIN']=df['FTPTMAIN'].map(lambda x: str(x)+'-'+(ftptmain['en_label'][ftptmain['code']==x].values[0]))\n",
    "    \n",
    "    #deriving value of VOLUNTARY_PT based on WHYPT\n",
    "    df['VOLUNTARY_PT']=np.where(df['WHYPT']==5,\n",
    "                               True,\n",
    "                               False)\n",
    "    \n",
    "    #deriving value of QUARTERS based on SURVMNTH\n",
    "    df['QUARTER']=df['SURVMNTH'].map(quarters)\n",
    "    \n",
    "    return df[reqcols+['QUARTER','VOLUNTARY_PT']]"
   ]
  },
  {
   "cell_type": "code",
   "execution_count": 156,
   "id": "5a490952",
   "metadata": {},
   "outputs": [],
   "source": [
    "def trans_debug(df):\n",
    "     \"\"\"This function can be ignored as it is created to assist in debugging of f(transformations)\"\"\"\n",
    "    \n",
    "#     #creating transformations for LFSSTAT\n",
    "#     df['LFSSTAT']=df['LFSSTAT'].map(lambda x: str(x)+'-'+(lfsstat['en_label'][lfsstat['code']==x].values[0]))\n",
    "    \n",
    "# #     #creating transformations for SEX\n",
    "# #     df['SEX']=df['SEX'].map(lambda x: str(x)+'-'+(sex['en_label'][sex['code']==x].values[0]))\n",
    "    \n",
    "# #     #creating transformations for FTPTMAIN\n",
    "# #     df['FTPTMAIN']=df['FTPTMAIN'].fillna(0)\n",
    "# #     df['FTPTMAIN']=df['FTPTMAIN'].map(lambda x: str(x)+'-'+(ftptmain['en_label'][ftptmain['code']==x].values[0]))\n",
    "    \n",
    "# #     #deriving value of VOLUNTARY_PT based on WHYPT\n",
    "# #     df['VOLUNTARY_PT']=np.where(df['WHYPT']==5,\n",
    "# #                                True,\n",
    "# #                                False)\n",
    "    \n",
    "# #     #deriving value of QUARTERS based on SURVMNTH\n",
    "# #     df['QUARTER']=df['SURVMNTH'].map(quarters)\n",
    "    \n",
    "     return df"
   ]
  },
  {
   "cell_type": "markdown",
   "id": "4718e306",
   "metadata": {},
   "source": [
    "# Importing monthly files"
   ]
  },
  {
   "cell_type": "code",
   "execution_count": 167,
   "id": "bb43bd4a",
   "metadata": {},
   "outputs": [],
   "source": [
    "Feb22=pd.read_csv('Datasets/pub0222.csv')\n",
    "Mar22=pd.read_csv('Datasets/pub0322.csv')\n",
    "Apr22=pd.read_csv('Datasets/pub0422.csv')\n",
    "May22=pd.read_csv('Datasets/pub0522.csv')\n",
    "Jun22=pd.read_csv('Datasets/pub0622.csv')\n",
    "Jul22=pd.read_csv('Datasets/pub0722.csv')\n",
    "Aug22=pd.read_csv('Datasets/pub0822.csv')\n",
    "Sep22=pd.read_csv('Datasets/pub0922.csv')"
   ]
  },
  {
   "cell_type": "markdown",
   "id": "e190938f",
   "metadata": {},
   "source": [
    "# Applying transformations for each monthly file imported"
   ]
  },
  {
   "cell_type": "markdown",
   "id": "4e489810",
   "metadata": {},
   "source": [
    "Since the transformations take a while to complete for each monthly file, I decided to separate each transformation\n",
    "in different code blocks and run each one individually, that way if something goes wrong I can immediately point out\n",
    "where the error occured"
   ]
  },
  {
   "cell_type": "code",
   "execution_count": 144,
   "id": "8e955b0a",
   "metadata": {},
   "outputs": [],
   "source": [
    "#Feb file transformation\n",
    "Feb22f=transformations(Feb22)"
   ]
  },
  {
   "cell_type": "code",
   "execution_count": 146,
   "id": "ca5eb3f5",
   "metadata": {},
   "outputs": [
    {
     "data": {
      "text/html": [
       "<div>\n",
       "<style scoped>\n",
       "    .dataframe tbody tr th:only-of-type {\n",
       "        vertical-align: middle;\n",
       "    }\n",
       "\n",
       "    .dataframe tbody tr th {\n",
       "        vertical-align: top;\n",
       "    }\n",
       "\n",
       "    .dataframe thead th {\n",
       "        text-align: right;\n",
       "    }\n",
       "</style>\n",
       "<table border=\"1\" class=\"dataframe\">\n",
       "  <thead>\n",
       "    <tr style=\"text-align: right;\">\n",
       "      <th></th>\n",
       "      <th>SURVMNTH</th>\n",
       "      <th>LFSSTAT</th>\n",
       "      <th>PROV</th>\n",
       "      <th>AGE_12</th>\n",
       "      <th>SEX</th>\n",
       "      <th>EDUC</th>\n",
       "      <th>NAICS_21</th>\n",
       "      <th>NOC_10</th>\n",
       "      <th>NOC_40</th>\n",
       "      <th>COWMAIN</th>\n",
       "      <th>FTPTMAIN</th>\n",
       "      <th>QUARTER</th>\n",
       "      <th>VOLUNTARY_PT</th>\n",
       "    </tr>\n",
       "  </thead>\n",
       "  <tbody>\n",
       "    <tr>\n",
       "      <th>0</th>\n",
       "      <td>2</td>\n",
       "      <td>4-Not in labour force</td>\n",
       "      <td>35</td>\n",
       "      <td>1</td>\n",
       "      <td>2-Female</td>\n",
       "      <td>1</td>\n",
       "      <td>10.0</td>\n",
       "      <td>7.0</td>\n",
       "      <td>25.0</td>\n",
       "      <td>2.0</td>\n",
       "      <td>0.0-Not applicable</td>\n",
       "      <td>2022Q1</td>\n",
       "      <td>False</td>\n",
       "    </tr>\n",
       "    <tr>\n",
       "      <th>1</th>\n",
       "      <td>2</td>\n",
       "      <td>4-Not in labour force</td>\n",
       "      <td>10</td>\n",
       "      <td>2</td>\n",
       "      <td>2-Female</td>\n",
       "      <td>3</td>\n",
       "      <td>17.0</td>\n",
       "      <td>5.0</td>\n",
       "      <td>18.0</td>\n",
       "      <td>2.0</td>\n",
       "      <td>0.0-Not applicable</td>\n",
       "      <td>2022Q1</td>\n",
       "      <td>False</td>\n",
       "    </tr>\n",
       "    <tr>\n",
       "      <th>2</th>\n",
       "      <td>2</td>\n",
       "      <td>4-Not in labour force</td>\n",
       "      <td>35</td>\n",
       "      <td>7</td>\n",
       "      <td>2-Female</td>\n",
       "      <td>5</td>\n",
       "      <td>NaN</td>\n",
       "      <td>NaN</td>\n",
       "      <td>NaN</td>\n",
       "      <td>NaN</td>\n",
       "      <td>0.0-Not applicable</td>\n",
       "      <td>2022Q1</td>\n",
       "      <td>False</td>\n",
       "    </tr>\n",
       "    <tr>\n",
       "      <th>3</th>\n",
       "      <td>2</td>\n",
       "      <td>4-Not in labour force</td>\n",
       "      <td>24</td>\n",
       "      <td>12</td>\n",
       "      <td>1-Male</td>\n",
       "      <td>1</td>\n",
       "      <td>19.0</td>\n",
       "      <td>8.0</td>\n",
       "      <td>32.0</td>\n",
       "      <td>2.0</td>\n",
       "      <td>0.0-Not applicable</td>\n",
       "      <td>2022Q1</td>\n",
       "      <td>False</td>\n",
       "    </tr>\n",
       "    <tr>\n",
       "      <th>4</th>\n",
       "      <td>2</td>\n",
       "      <td>4-Not in labour force</td>\n",
       "      <td>47</td>\n",
       "      <td>10</td>\n",
       "      <td>1-Male</td>\n",
       "      <td>4</td>\n",
       "      <td>10.0</td>\n",
       "      <td>7.0</td>\n",
       "      <td>24.0</td>\n",
       "      <td>2.0</td>\n",
       "      <td>0.0-Not applicable</td>\n",
       "      <td>2022Q1</td>\n",
       "      <td>False</td>\n",
       "    </tr>\n",
       "  </tbody>\n",
       "</table>\n",
       "</div>"
      ],
      "text/plain": [
       "   SURVMNTH                LFSSTAT  PROV  AGE_12       SEX  EDUC  NAICS_21  \\\n",
       "0         2  4-Not in labour force    35       1  2-Female     1      10.0   \n",
       "1         2  4-Not in labour force    10       2  2-Female     3      17.0   \n",
       "2         2  4-Not in labour force    35       7  2-Female     5       NaN   \n",
       "3         2  4-Not in labour force    24      12    1-Male     1      19.0   \n",
       "4         2  4-Not in labour force    47      10    1-Male     4      10.0   \n",
       "\n",
       "   NOC_10  NOC_40  COWMAIN            FTPTMAIN QUARTER  VOLUNTARY_PT  \n",
       "0     7.0    25.0      2.0  0.0-Not applicable  2022Q1         False  \n",
       "1     5.0    18.0      2.0  0.0-Not applicable  2022Q1         False  \n",
       "2     NaN     NaN      NaN  0.0-Not applicable  2022Q1         False  \n",
       "3     8.0    32.0      2.0  0.0-Not applicable  2022Q1         False  \n",
       "4     7.0    24.0      2.0  0.0-Not applicable  2022Q1         False  "
      ]
     },
     "execution_count": 146,
     "metadata": {},
     "output_type": "execute_result"
    }
   ],
   "source": [
    "#checking the transformation worked as expected\n",
    "Feb22f.head()"
   ]
  },
  {
   "cell_type": "code",
   "execution_count": 158,
   "id": "0d0e2d8e",
   "metadata": {},
   "outputs": [],
   "source": [
    "#Mar file transformation\n",
    "Mar22f=transformations(Mar22)"
   ]
  },
  {
   "cell_type": "code",
   "execution_count": 168,
   "id": "56a9167c",
   "metadata": {},
   "outputs": [],
   "source": [
    "#Apr file transformation\n",
    "Apr22f=transformations(Apr22)"
   ]
  },
  {
   "cell_type": "code",
   "execution_count": 169,
   "id": "b83cb6f0",
   "metadata": {},
   "outputs": [],
   "source": [
    "#May file transformation\n",
    "May22f=transformations(May22)"
   ]
  },
  {
   "cell_type": "code",
   "execution_count": 170,
   "id": "9d1d9fbb",
   "metadata": {},
   "outputs": [],
   "source": [
    "#Jun file transformation\n",
    "Jun22f=transformations(Jun22)"
   ]
  },
  {
   "cell_type": "code",
   "execution_count": 179,
   "id": "4ac1f914",
   "metadata": {},
   "outputs": [],
   "source": [
    "#Jul file transformation\n",
    "Jul22f=transformations(Jul22)"
   ]
  },
  {
   "cell_type": "code",
   "execution_count": 172,
   "id": "d73ea9f9",
   "metadata": {},
   "outputs": [],
   "source": [
    "#Aug file transformation\n",
    "Aug22f=transformations(Aug22)"
   ]
  },
  {
   "cell_type": "code",
   "execution_count": 173,
   "id": "3e0e6837",
   "metadata": {},
   "outputs": [],
   "source": [
    "#Sep file transformation\n",
    "Sep22f=transformations(Sep22)"
   ]
  },
  {
   "cell_type": "markdown",
   "id": "aba42fab",
   "metadata": {},
   "source": [
    "# Combine all transformed dataframes"
   ]
  },
  {
   "cell_type": "code",
   "execution_count": 180,
   "id": "42867edb",
   "metadata": {},
   "outputs": [],
   "source": [
    "#Consolidating all dataframe ready for transformation into a list\n",
    "\n",
    "FinalList=[Jan22f,\n",
    "           Feb22f,\n",
    "           Mar22f,\n",
    "           Apr22f,\n",
    "           May22f,\n",
    "           Jun22f,\n",
    "           Jul22f,\n",
    "           Aug22f,\n",
    "           Sep22f]\n"
   ]
  },
  {
   "cell_type": "code",
   "execution_count": 181,
   "id": "7a6d0a5a",
   "metadata": {},
   "outputs": [],
   "source": [
    "#combining all dataframes into FinalDF\n",
    "FinalDF=pd.concat(FinalList)"
   ]
  },
  {
   "cell_type": "code",
   "execution_count": 182,
   "id": "ff338bb7",
   "metadata": {},
   "outputs": [
    {
     "data": {
      "text/html": [
       "<div>\n",
       "<style scoped>\n",
       "    .dataframe tbody tr th:only-of-type {\n",
       "        vertical-align: middle;\n",
       "    }\n",
       "\n",
       "    .dataframe tbody tr th {\n",
       "        vertical-align: top;\n",
       "    }\n",
       "\n",
       "    .dataframe thead th {\n",
       "        text-align: right;\n",
       "    }\n",
       "</style>\n",
       "<table border=\"1\" class=\"dataframe\">\n",
       "  <thead>\n",
       "    <tr style=\"text-align: right;\">\n",
       "      <th></th>\n",
       "      <th>SURVMNTH</th>\n",
       "      <th>LFSSTAT</th>\n",
       "      <th>PROV</th>\n",
       "      <th>AGE_12</th>\n",
       "      <th>SEX</th>\n",
       "      <th>EDUC</th>\n",
       "      <th>NAICS_21</th>\n",
       "      <th>NOC_10</th>\n",
       "      <th>NOC_40</th>\n",
       "      <th>COWMAIN</th>\n",
       "      <th>FTPTMAIN</th>\n",
       "      <th>QUARTER</th>\n",
       "      <th>VOLUNTARY_PT</th>\n",
       "    </tr>\n",
       "  </thead>\n",
       "  <tbody>\n",
       "    <tr>\n",
       "      <th>110434</th>\n",
       "      <td>9</td>\n",
       "      <td>1-Employed, at work</td>\n",
       "      <td>13</td>\n",
       "      <td>9</td>\n",
       "      <td>2-Female</td>\n",
       "      <td>4</td>\n",
       "      <td>10.0</td>\n",
       "      <td>7.0</td>\n",
       "      <td>25.0</td>\n",
       "      <td>2.0</td>\n",
       "      <td>2.0-Part-time</td>\n",
       "      <td>2022Q3</td>\n",
       "      <td>True</td>\n",
       "    </tr>\n",
       "    <tr>\n",
       "      <th>110435</th>\n",
       "      <td>9</td>\n",
       "      <td>4-Not in labour force</td>\n",
       "      <td>24</td>\n",
       "      <td>9</td>\n",
       "      <td>1-Male</td>\n",
       "      <td>5</td>\n",
       "      <td>18.0</td>\n",
       "      <td>3.0</td>\n",
       "      <td>11.0</td>\n",
       "      <td>1.0</td>\n",
       "      <td>0.0-Not applicable</td>\n",
       "      <td>2022Q3</td>\n",
       "      <td>False</td>\n",
       "    </tr>\n",
       "    <tr>\n",
       "      <th>110436</th>\n",
       "      <td>9</td>\n",
       "      <td>1-Employed, at work</td>\n",
       "      <td>59</td>\n",
       "      <td>5</td>\n",
       "      <td>1-Male</td>\n",
       "      <td>6</td>\n",
       "      <td>14.0</td>\n",
       "      <td>2.0</td>\n",
       "      <td>5.0</td>\n",
       "      <td>2.0</td>\n",
       "      <td>1.0-Full-time</td>\n",
       "      <td>2022Q3</td>\n",
       "      <td>False</td>\n",
       "    </tr>\n",
       "    <tr>\n",
       "      <th>110437</th>\n",
       "      <td>9</td>\n",
       "      <td>1-Employed, at work</td>\n",
       "      <td>35</td>\n",
       "      <td>10</td>\n",
       "      <td>2-Female</td>\n",
       "      <td>4</td>\n",
       "      <td>15.0</td>\n",
       "      <td>1.0</td>\n",
       "      <td>2.0</td>\n",
       "      <td>2.0</td>\n",
       "      <td>1.0-Full-time</td>\n",
       "      <td>2022Q3</td>\n",
       "      <td>False</td>\n",
       "    </tr>\n",
       "    <tr>\n",
       "      <th>110438</th>\n",
       "      <td>9</td>\n",
       "      <td>1-Employed, at work</td>\n",
       "      <td>35</td>\n",
       "      <td>6</td>\n",
       "      <td>2-Female</td>\n",
       "      <td>4</td>\n",
       "      <td>17.0</td>\n",
       "      <td>4.0</td>\n",
       "      <td>12.0</td>\n",
       "      <td>1.0</td>\n",
       "      <td>1.0-Full-time</td>\n",
       "      <td>2022Q3</td>\n",
       "      <td>False</td>\n",
       "    </tr>\n",
       "  </tbody>\n",
       "</table>\n",
       "</div>"
      ],
      "text/plain": [
       "        SURVMNTH                LFSSTAT  PROV  AGE_12       SEX  EDUC  \\\n",
       "110434         9    1-Employed, at work    13       9  2-Female     4   \n",
       "110435         9  4-Not in labour force    24       9    1-Male     5   \n",
       "110436         9    1-Employed, at work    59       5    1-Male     6   \n",
       "110437         9    1-Employed, at work    35      10  2-Female     4   \n",
       "110438         9    1-Employed, at work    35       6  2-Female     4   \n",
       "\n",
       "        NAICS_21  NOC_10  NOC_40  COWMAIN            FTPTMAIN QUARTER  \\\n",
       "110434      10.0     7.0    25.0      2.0       2.0-Part-time  2022Q3   \n",
       "110435      18.0     3.0    11.0      1.0  0.0-Not applicable  2022Q3   \n",
       "110436      14.0     2.0     5.0      2.0       1.0-Full-time  2022Q3   \n",
       "110437      15.0     1.0     2.0      2.0       1.0-Full-time  2022Q3   \n",
       "110438      17.0     4.0    12.0      1.0       1.0-Full-time  2022Q3   \n",
       "\n",
       "        VOLUNTARY_PT  \n",
       "110434          True  \n",
       "110435         False  \n",
       "110436         False  \n",
       "110437         False  \n",
       "110438         False  "
      ]
     },
     "execution_count": 182,
     "metadata": {},
     "output_type": "execute_result"
    }
   ],
   "source": [
    "#checking Final DF\n",
    "FinalDF.tail()"
   ]
  },
  {
   "cell_type": "code",
   "execution_count": 183,
   "id": "4ad6dd02",
   "metadata": {},
   "outputs": [
    {
     "name": "stdout",
     "output_type": "stream",
     "text": [
      "<class 'pandas.core.frame.DataFrame'>\n",
      "Int64Index: 977017 entries, 0 to 110438\n",
      "Data columns (total 13 columns):\n",
      " #   Column        Non-Null Count   Dtype  \n",
      "---  ------        --------------   -----  \n",
      " 0   SURVMNTH      977017 non-null  int64  \n",
      " 1   LFSSTAT       977017 non-null  object \n",
      " 2   PROV          977017 non-null  int64  \n",
      " 3   AGE_12        977017 non-null  int64  \n",
      " 4   SEX           977017 non-null  object \n",
      " 5   EDUC          977017 non-null  int64  \n",
      " 6   NAICS_21      635925 non-null  float64\n",
      " 7   NOC_10        635925 non-null  float64\n",
      " 8   NOC_40        635925 non-null  float64\n",
      " 9   COWMAIN       635925 non-null  float64\n",
      " 10  FTPTMAIN      977017 non-null  object \n",
      " 11  QUARTER       977017 non-null  object \n",
      " 12  VOLUNTARY_PT  977017 non-null  bool   \n",
      "dtypes: bool(1), float64(4), int64(4), object(4)\n",
      "memory usage: 97.8+ MB\n"
     ]
    }
   ],
   "source": [
    "#Checking details for FinalDF\n",
    "FinalDF.info()"
   ]
  },
  {
   "cell_type": "markdown",
   "id": "cda17de2",
   "metadata": {},
   "source": [
    "# Export Final DF "
   ]
  },
  {
   "cell_type": "code",
   "execution_count": 186,
   "id": "4e78c769",
   "metadata": {},
   "outputs": [],
   "source": [
    "FinalDF.to_csv('Datasets/FinalDF.csv', encoding='utf-8', index=False)"
   ]
  },
  {
   "cell_type": "code",
   "execution_count": 187,
   "id": "a51c7b41",
   "metadata": {},
   "outputs": [],
   "source": [
    "# End of this task"
   ]
  }
 ],
 "metadata": {
  "kernelspec": {
   "display_name": "Python 3 (ipykernel)",
   "language": "python",
   "name": "python3"
  },
  "language_info": {
   "codemirror_mode": {
    "name": "ipython",
    "version": 3
   },
   "file_extension": ".py",
   "mimetype": "text/x-python",
   "name": "python",
   "nbconvert_exporter": "python",
   "pygments_lexer": "ipython3",
   "version": "3.9.12"
  }
 },
 "nbformat": 4,
 "nbformat_minor": 5
}
